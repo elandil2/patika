{
 "cells": [
  {
   "cell_type": "markdown",
   "metadata": {},
   "source": [
    "##[7, 5, 1, 8, 3, 6, 0, 9, 4, 2]  Binary-Search-Tree steps of array;\n",
    "\n",
    "###First element is a root so its 7. At each step, the smaller ones go to the left, the bigger ones go to the right.\n",
    "\n",
    "\n",
    "The leaves of the tree are placed like that.\n",
    "\n",
    "\n",
    "\n",
    "         7\n",
    "        / \\\n",
    "       5   8\n",
    "      / \\   \\\n",
    "     1   6   9\n",
    "    / \\\n",
    "   0   3\n",
    "      / \\\n",
    "     2   4"
   ]
  }
 ],
 "metadata": {
  "interpreter": {
   "hash": "6a9beb290ffa312e1d2ac5004f1a1d6b72279adb3972342b7eb5804033d47614"
  },
  "kernelspec": {
   "display_name": "Python 3.10.3 64-bit",
   "language": "python",
   "name": "python3"
  },
  "language_info": {
   "codemirror_mode": {
    "name": "ipython",
    "version": 3
   },
   "file_extension": ".py",
   "mimetype": "text/x-python",
   "name": "python",
   "nbconvert_exporter": "python",
   "pygments_lexer": "ipython3",
   "version": "3.10.3"
  },
  "orig_nbformat": 4
 },
 "nbformat": 4,
 "nbformat_minor": 2
}
