{
 "cells": [
  {
   "cell_type": "markdown",
   "metadata": {},
   "source": [
    "We start divide array by 2 then have 2 pieces (2 half) . Then iterate both right and left halfs. Then iterate inside these halfs both. Step by step below ;\n",
    "\n",
    "Splitting  [16, 21, 11, 8, 12, 22]\n",
    "Splitting  [16, 21, 11] => left half\n",
    "Splitting  [16]\n",
    "Merging  [16]\n",
    "Splitting  [21, 11]\n",
    "Splitting  [21]\n",
    "Merging  [21]\n",
    "Splitting  [11]\n",
    "Merging  [11]\n",
    "Merging  [11, 21]\n",
    "Merging  [11, 16, 21]\n",
    "Splitting  [8, 12, 22] => right half\n",
    "Splitting  [8]\n",
    "Merging  [8]\n",
    "Splitting  [12, 22]\n",
    "Splitting  [12]\n",
    "Merging  [12]\n",
    "Splitting  [22]\n",
    "Merging  [22]\n",
    "Merging  [12, 22]\n",
    "Merging  [8, 12, 22]\n",
    "Merging  [8, 11, 12, 16, 21, 22]\n",
    "output:[8, 11, 12, 16, 21, 22]"
   ]
  }
 ],
 "metadata": {
  "interpreter": {
   "hash": "6a9beb290ffa312e1d2ac5004f1a1d6b72279adb3972342b7eb5804033d47614"
  },
  "kernelspec": {
   "display_name": "Python 3.10.3 64-bit",
   "language": "python",
   "name": "python3"
  },
  "language_info": {
   "codemirror_mode": {
    "name": "ipython",
    "version": 3
   },
   "file_extension": ".py",
   "mimetype": "text/x-python",
   "name": "python",
   "nbconvert_exporter": "python",
   "pygments_lexer": "ipython3",
   "version": "3.10.3"
  },
  "orig_nbformat": 4
 },
 "nbformat": 4,
 "nbformat_minor": 2
}
