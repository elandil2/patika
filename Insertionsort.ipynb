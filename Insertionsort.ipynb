{
 "cells": [
  {
   "cell_type": "code",
   "execution_count": 1,
   "metadata": {},
   "outputs": [
    {
     "name": "stdout",
     "output_type": "stream",
     "text": [
      " 2\n",
      " 6\n",
      " 16\n",
      " 18\n",
      " 22\n",
      " 27\n"
     ]
    }
   ],
   "source": [
    "# Python program for implementation of Insertion Sort\n",
    " \n",
    "# Function to do insertion sort\n",
    "def insertionSort(arr):\n",
    " \n",
    "    # Traverse through 1 to len(arr)\n",
    "    for i in range(1, len(arr)):\n",
    " \n",
    "        key = arr[i]\n",
    " \n",
    "        # Move elements of arr[0..i-1], that are\n",
    "        # greater than key, to one position ahead\n",
    "        # of their current position\n",
    "        j = i-1\n",
    "        while j >= 0 and key < arr[j] :\n",
    "                arr[j + 1] = arr[j]\n",
    "                j -= 1\n",
    "        arr[j + 1] = key\n",
    " \n",
    "arr = [22,27,16,2,18,6]\n",
    "insertionSort(arr)\n",
    "for i in range(len(arr)):\n",
    "    print (\"% d\" % arr[i])"
   ]
  },
  {
   "cell_type": "markdown",
   "metadata": {},
   "source": [
    "22,27,16,2,18,6] => Insertion Sort\n",
    "\n",
    "1 Sort them and explain steps;\n",
    "\n",
    "- min=2 => swap 2 and 22 => [2, | 27, 16, 22, 18, 6]\n",
    "- min=6 => swap 27 and 6 => [2, 6, | 16, 22, 18, 27]\n",
    "- min=16 => no need to swap => [2, 6, 16, | 22, 18, 27]\n",
    "- min=18 => swap 18 and 22 => [2, 6 16 18 ,22, 27]\n",
    "\n",
    "2 Big-O \n",
    "\n",
    "Step 1 => n\n",
    "Step 2 => n-1\n",
    "Step 3 => n-2\n",
    "....\n",
    "Step n-1 => 1\n",
    "\n",
    "sum = (n*(n-1))/2 => O(n^2)\n",
    "\n",
    "Average case: Number is at mid,\n",
    "Worst case: Number is last element of array\n",
    "Best case: Number is first element of array\n",
    "3) 18 is worst case scenario\n",
    "\n",
    "4) [7,3,5,8,2,9,4,15,6] first four steps;\n",
    "\n",
    "- min=2 => swap 7 and 2 => [2, | 3, 5, 8, 7, 9, 4, 15, 6]\n",
    "- min=3 => no need to swap [2, 3, | 5, 8, 7, 9, 4, 15, 6]\n",
    "- min=4 => swap 5 and 4 => [2, 3, 4, | 8, 7, 9, 5, 15, 6]\n",
    "- min=5 => swap 8 and 5 => [2, 3, 4, 5, | 7, 9, 8, 15, 6]"
   ]
  },
  {
   "cell_type": "code",
   "execution_count": 2,
   "metadata": {},
   "outputs": [
    {
     "name": "stdout",
     "output_type": "stream",
     "text": [
      " 2\n",
      " 3\n",
      " 4\n",
      " 5\n",
      " 6\n",
      " 7\n",
      " 8\n",
      " 9\n",
      " 15\n"
     ]
    }
   ],
   "source": [
    "# Python program for implementation of Insertion Sort\n",
    " \n",
    "# Function to do insertion sort\n",
    "def insertionSort(arr):\n",
    " \n",
    "    # Traverse through 1 to len(arr)\n",
    "    for i in range(1, len(arr)):\n",
    " \n",
    "        key = arr[i]\n",
    " \n",
    "        # Move elements of arr[0..i-1], that are\n",
    "        # greater than key, to one position ahead\n",
    "        # of their current position\n",
    "        j = i-1\n",
    "        while j >= 0 and key < arr[j] :\n",
    "                arr[j + 1] = arr[j]\n",
    "                j -= 1\n",
    "        arr[j + 1] = key\n",
    " \n",
    "arr = [7,3,5,8,2,9,4,15,6]\n",
    "insertionSort(arr)\n",
    "for i in range(len(arr)):\n",
    "    print (\"% d\" % arr[i])"
   ]
  }
 ],
 "metadata": {
  "interpreter": {
   "hash": "6a9beb290ffa312e1d2ac5004f1a1d6b72279adb3972342b7eb5804033d47614"
  },
  "kernelspec": {
   "display_name": "Python 3.10.3 64-bit",
   "language": "python",
   "name": "python3"
  },
  "language_info": {
   "codemirror_mode": {
    "name": "ipython",
    "version": 3
   },
   "file_extension": ".py",
   "mimetype": "text/x-python",
   "name": "python",
   "nbconvert_exporter": "python",
   "pygments_lexer": "ipython3",
   "version": "3.10.3"
  },
  "orig_nbformat": 4
 },
 "nbformat": 4,
 "nbformat_minor": 2
}
