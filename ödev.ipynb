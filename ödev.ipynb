{
 "cells": [
  {
   "cell_type": "code",
   "execution_count": 1,
   "metadata": {},
   "outputs": [
    {
     "data": {
      "text/plain": [
       "\" [1,'a','cat',2,3,'dog',4,5] \""
      ]
     },
     "execution_count": 1,
     "metadata": {},
     "output_type": "execute_result"
    }
   ],
   "source": [
    "#Given array\n",
    "aList = [[1,'a',['cat'],2],[[[3]],'dog'],4,5]\n",
    "#Output we desire\n",
    "''' [1,'a','cat',2,3,'dog',4,5] '''"
   ]
  },
  {
   "cell_type": "code",
   "execution_count": 2,
   "metadata": {},
   "outputs": [],
   "source": [
    "# function we use\n",
    "def flatten(aList):\n",
    "    new = []\n",
    "    for i in aList:\n",
    "        if type(i) == type([]):\n",
    "            new.extend(flatten(i))\n",
    "            \n",
    "        else:\n",
    "            new.append(i)\n",
    "            \n",
    "    return new"
   ]
  },
  {
   "cell_type": "code",
   "execution_count": 3,
   "metadata": {},
   "outputs": [
    {
     "name": "stdout",
     "output_type": "stream",
     "text": [
      "[1, 'a', 'cat', 2, 3, 'dog', 4, 5]\n"
     ]
    }
   ],
   "source": [
    "#Show Result\n",
    "print(flatten(aList))"
   ]
  },
  {
   "cell_type": "code",
   "execution_count": 4,
   "metadata": {},
   "outputs": [
    {
     "data": {
      "text/plain": [
       "' [[7, 6, 5], [4, 3], [2, 1]] '"
      ]
     },
     "execution_count": 4,
     "metadata": {},
     "output_type": "execute_result"
    }
   ],
   "source": [
    "#Given input, so we give variable a\n",
    "a = [[1, 2], [3, 4], [5, 6, 7]]\n",
    "\n",
    "#desired output\n",
    "''' [[7, 6, 5], [4, 3], [2, 1]] '''"
   ]
  },
  {
   "cell_type": "code",
   "execution_count": 5,
   "metadata": {},
   "outputs": [
    {
     "name": "stdout",
     "output_type": "stream",
     "text": [
      "[[7, 6, 5], [4, 3], [2, 1]]\n"
     ]
    }
   ],
   "source": [
    "#This is nested lists so first we reversed first layer of list then iterate every item inside list then reverse them either.\n",
    "a.reverse()\n",
    "\n",
    "for i in a:\n",
    "    i.reverse()\n",
    "print(a)"
   ]
  },
  {
   "cell_type": "code",
   "execution_count": null,
   "metadata": {},
   "outputs": [],
   "source": []
  },
  {
   "cell_type": "code",
   "execution_count": null,
   "metadata": {},
   "outputs": [],
   "source": []
  }
 ],
 "metadata": {
  "interpreter": {
   "hash": "6a9beb290ffa312e1d2ac5004f1a1d6b72279adb3972342b7eb5804033d47614"
  },
  "kernelspec": {
   "display_name": "Python 3.10.3 64-bit",
   "language": "python",
   "name": "python3"
  },
  "language_info": {
   "codemirror_mode": {
    "name": "ipython",
    "version": 3
   },
   "file_extension": ".py",
   "mimetype": "text/x-python",
   "name": "python",
   "nbconvert_exporter": "python",
   "pygments_lexer": "ipython3",
   "version": "3.10.3"
  },
  "orig_nbformat": 4
 },
 "nbformat": 4,
 "nbformat_minor": 2
}
